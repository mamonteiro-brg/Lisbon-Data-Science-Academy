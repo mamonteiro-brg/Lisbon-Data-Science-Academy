{
 "cells": [
  {
   "cell_type": "code",
   "execution_count": 4,
   "metadata": {},
   "outputs": [],
   "source": [
    "%load_ext autoreload"
   ]
  },
  {
   "cell_type": "code",
   "execution_count": 15,
   "metadata": {},
   "outputs": [],
   "source": [
    "from utils import basic_data_wrangling\n",
    "import pandas as pd\n",
    "import numpy as np\n",
    "from scipy.stats import randint\n",
    "\n",
    "\n",
    "import seaborn as sns\n",
    "import matplotlib\n",
    "import matplotlib.pyplot as plt\n",
    "%matplotlib inline\n",
    "\n",
    "#Import stuff to scale data\n",
    "from sklearn.preprocessing import MinMaxScaler\n",
    "from sklearn.preprocessing import StandardScaler\n",
    "\n",
    "\n",
    "# Import the classifiers we will be using\n",
    "from sklearn.neighbors import KNeighborsClassifier\n",
    "from sklearn.naive_bayes import GaussianNB\n",
    "from sklearn.tree import DecisionTreeClassifier\n",
    "from sklearn.ensemble import RandomForestClassifier, VotingClassifier\n",
    "from sklearn.model_selection import RandomizedSearchCV\n",
    "from sklearn.linear_model import LogisticRegression\n",
    "\n",
    "\n",
    "# Import ROC AUC scoring function\n",
    "from sklearn.metrics import roc_auc_score\n",
    "\n",
    "# Import train/test split function\n",
    "from sklearn.model_selection import train_test_split\n",
    "\n",
    "\n",
    "%autoreload 2"
   ]
  },
  {
   "cell_type": "code",
   "execution_count": 16,
   "metadata": {},
   "outputs": [],
   "source": [
    "#Import data\n",
    "train = pd.read_csv(\"../data/train.csv\", index_col='ID')\n",
    "test = pd.read_csv(\"../data/test.csv\",  index_col='ID')"
   ]
  },
  {
   "cell_type": "raw",
   "metadata": {},
   "source": [
    "#Non Numerical data\n",
    "non_numerical_data = train.select_dtypes(include=\"object\")\n",
    "non_numerical_data.head(3)\n",
    "train.head()"
   ]
  },
  {
   "cell_type": "code",
   "execution_count": 17,
   "metadata": {},
   "outputs": [
    {
     "data": {
      "text/html": [
       "<div>\n",
       "<style scoped>\n",
       "    .dataframe tbody tr th:only-of-type {\n",
       "        vertical-align: middle;\n",
       "    }\n",
       "\n",
       "    .dataframe tbody tr th {\n",
       "        vertical-align: top;\n",
       "    }\n",
       "\n",
       "    .dataframe thead th {\n",
       "        text-align: right;\n",
       "    }\n",
       "</style>\n",
       "<table border=\"1\" class=\"dataframe\">\n",
       "  <thead>\n",
       "    <tr style=\"text-align: right;\">\n",
       "      <th></th>\n",
       "      <th>AmountRain</th>\n",
       "      <th>StrongWindDir</th>\n",
       "      <th>StrongWindSpeed</th>\n",
       "      <th>MorningWindDir</th>\n",
       "      <th>AfternoonWindDir</th>\n",
       "      <th>AfternoonWindSpeed</th>\n",
       "      <th>MorningHumidity</th>\n",
       "      <th>AfternoonHumidity</th>\n",
       "      <th>MorningTemp</th>\n",
       "      <th>AfternoonTemp</th>\n",
       "      <th>DidRainToday</th>\n",
       "      <th>DaysSinceNewYear</th>\n",
       "      <th>TomorrowRainForecast</th>\n",
       "    </tr>\n",
       "    <tr>\n",
       "      <th>ID</th>\n",
       "      <th></th>\n",
       "      <th></th>\n",
       "      <th></th>\n",
       "      <th></th>\n",
       "      <th></th>\n",
       "      <th></th>\n",
       "      <th></th>\n",
       "      <th></th>\n",
       "      <th></th>\n",
       "      <th></th>\n",
       "      <th></th>\n",
       "      <th></th>\n",
       "      <th></th>\n",
       "    </tr>\n",
       "  </thead>\n",
       "  <tbody>\n",
       "    <tr>\n",
       "      <th>5683</th>\n",
       "      <td>0.0</td>\n",
       "      <td>WSW</td>\n",
       "      <td>43.0</td>\n",
       "      <td>N</td>\n",
       "      <td>SW</td>\n",
       "      <td>17.0</td>\n",
       "      <td>82.0</td>\n",
       "      <td>51.0</td>\n",
       "      <td>15.4</td>\n",
       "      <td>20.8</td>\n",
       "      <td>No</td>\n",
       "      <td>268</td>\n",
       "      <td>0</td>\n",
       "    </tr>\n",
       "    <tr>\n",
       "      <th>2971</th>\n",
       "      <td>0.0</td>\n",
       "      <td>E</td>\n",
       "      <td>15.0</td>\n",
       "      <td>NaN</td>\n",
       "      <td>SE</td>\n",
       "      <td>7.0</td>\n",
       "      <td>91.0</td>\n",
       "      <td>63.0</td>\n",
       "      <td>9.7</td>\n",
       "      <td>16.6</td>\n",
       "      <td>No</td>\n",
       "      <td>136</td>\n",
       "      <td>0</td>\n",
       "    </tr>\n",
       "    <tr>\n",
       "      <th>3560</th>\n",
       "      <td>0.0</td>\n",
       "      <td>S</td>\n",
       "      <td>33.0</td>\n",
       "      <td>WSW</td>\n",
       "      <td>WSW</td>\n",
       "      <td>17.0</td>\n",
       "      <td>58.0</td>\n",
       "      <td>38.0</td>\n",
       "      <td>10.9</td>\n",
       "      <td>15.9</td>\n",
       "      <td>No</td>\n",
       "      <td>217</td>\n",
       "      <td>0</td>\n",
       "    </tr>\n",
       "    <tr>\n",
       "      <th>2304</th>\n",
       "      <td>10.0</td>\n",
       "      <td>NE</td>\n",
       "      <td>30.0</td>\n",
       "      <td>S</td>\n",
       "      <td>SSE</td>\n",
       "      <td>11.0</td>\n",
       "      <td>96.0</td>\n",
       "      <td>93.0</td>\n",
       "      <td>4.7</td>\n",
       "      <td>6.4</td>\n",
       "      <td>Yes</td>\n",
       "      <td>195</td>\n",
       "      <td>1</td>\n",
       "    </tr>\n",
       "    <tr>\n",
       "      <th>3573</th>\n",
       "      <td>0.0</td>\n",
       "      <td>WSW</td>\n",
       "      <td>48.0</td>\n",
       "      <td>NaN</td>\n",
       "      <td>SW</td>\n",
       "      <td>26.0</td>\n",
       "      <td>59.0</td>\n",
       "      <td>40.0</td>\n",
       "      <td>11.5</td>\n",
       "      <td>15.9</td>\n",
       "      <td>No</td>\n",
       "      <td>232</td>\n",
       "      <td>0</td>\n",
       "    </tr>\n",
       "  </tbody>\n",
       "</table>\n",
       "</div>"
      ],
      "text/plain": [
       "      AmountRain StrongWindDir  StrongWindSpeed MorningWindDir  \\\n",
       "ID                                                               \n",
       "5683         0.0           WSW             43.0              N   \n",
       "2971         0.0             E             15.0            NaN   \n",
       "3560         0.0             S             33.0            WSW   \n",
       "2304        10.0            NE             30.0              S   \n",
       "3573         0.0           WSW             48.0            NaN   \n",
       "\n",
       "     AfternoonWindDir  AfternoonWindSpeed  MorningHumidity  AfternoonHumidity  \\\n",
       "ID                                                                              \n",
       "5683               SW                17.0             82.0               51.0   \n",
       "2971               SE                 7.0             91.0               63.0   \n",
       "3560              WSW                17.0             58.0               38.0   \n",
       "2304              SSE                11.0             96.0               93.0   \n",
       "3573               SW                26.0             59.0               40.0   \n",
       "\n",
       "      MorningTemp  AfternoonTemp DidRainToday  DaysSinceNewYear  \\\n",
       "ID                                                                \n",
       "5683         15.4           20.8           No               268   \n",
       "2971          9.7           16.6           No               136   \n",
       "3560         10.9           15.9           No               217   \n",
       "2304          4.7            6.4          Yes               195   \n",
       "3573         11.5           15.9           No               232   \n",
       "\n",
       "      TomorrowRainForecast  \n",
       "ID                          \n",
       "5683                     0  \n",
       "2971                     0  \n",
       "3560                     0  \n",
       "2304                     1  \n",
       "3573                     0  "
      ]
     },
     "execution_count": 17,
     "metadata": {},
     "output_type": "execute_result"
    }
   ],
   "source": [
    "#Numerical data\n",
    "numerical_data =  train.select_dtypes(exclude=\"object\")\n",
    "numerical_data.head(3)\n",
    "train.head()"
   ]
  },
  {
   "cell_type": "code",
   "execution_count": 1,
   "metadata": {},
   "outputs": [
    {
     "ename": "NameError",
     "evalue": "name 'train' is not defined",
     "output_type": "error",
     "traceback": [
      "\u001b[1;31m---------------------------------------------------------------------------\u001b[0m",
      "\u001b[1;31mNameError\u001b[0m                                 Traceback (most recent call last)",
      "\u001b[1;32m<ipython-input-1-a3654c99d366>\u001b[0m in \u001b[0;36m<module>\u001b[1;34m()\u001b[0m\n\u001b[0;32m      1\u001b[0m \u001b[1;31m#Sub every empty postion with smtg\u001b[0m\u001b[1;33m\u001b[0m\u001b[1;33m\u001b[0m\u001b[0m\n\u001b[1;32m----> 2\u001b[1;33m \u001b[0mnumericals\u001b[0m \u001b[1;33m=\u001b[0m \u001b[0mtrain\u001b[0m\u001b[1;33m.\u001b[0m\u001b[0mselect_dtypes\u001b[0m\u001b[1;33m(\u001b[0m\u001b[0minclude\u001b[0m\u001b[1;33m=\u001b[0m\u001b[1;33m[\u001b[0m\u001b[0mnp\u001b[0m\u001b[1;33m.\u001b[0m\u001b[0mnumber\u001b[0m\u001b[1;33m]\u001b[0m\u001b[1;33m)\u001b[0m\u001b[1;33m.\u001b[0m\u001b[0mcolumns\u001b[0m\u001b[1;33m.\u001b[0m\u001b[0mtolist\u001b[0m\u001b[1;33m(\u001b[0m\u001b[1;33m)\u001b[0m\u001b[1;33m\u001b[0m\u001b[0m\n\u001b[0m\u001b[0;32m      3\u001b[0m \u001b[0mnumericals\u001b[0m\u001b[1;33m.\u001b[0m\u001b[0mremove\u001b[0m\u001b[1;33m(\u001b[0m\u001b[1;34m\"TomorrowRainForecast\"\u001b[0m\u001b[1;33m)\u001b[0m\u001b[1;33m\u001b[0m\u001b[0m\n\u001b[0;32m      4\u001b[0m \u001b[1;31m#Get categoricals\u001b[0m\u001b[1;33m\u001b[0m\u001b[1;33m\u001b[0m\u001b[0m\n\u001b[0;32m      5\u001b[0m \u001b[0mcategoricals\u001b[0m \u001b[1;33m=\u001b[0m \u001b[0mtrain\u001b[0m\u001b[1;33m.\u001b[0m\u001b[0mselect_dtypes\u001b[0m\u001b[1;33m(\u001b[0m\u001b[0mexclude\u001b[0m\u001b[1;33m=\u001b[0m\u001b[1;33m[\u001b[0m\u001b[0mnp\u001b[0m\u001b[1;33m.\u001b[0m\u001b[0mnumber\u001b[0m\u001b[1;33m]\u001b[0m\u001b[1;33m)\u001b[0m\u001b[1;33m.\u001b[0m\u001b[0mcolumns\u001b[0m\u001b[1;33m.\u001b[0m\u001b[0mtolist\u001b[0m\u001b[1;33m(\u001b[0m\u001b[1;33m)\u001b[0m\u001b[1;33m\u001b[0m\u001b[0m\n",
      "\u001b[1;31mNameError\u001b[0m: name 'train' is not defined"
     ]
    }
   ],
   "source": [
    "#Sub every empty postion with smtg\n",
    "numericals = train.select_dtypes(include=[np.number]).columns.tolist()\n",
    "numericals.remove(\"TomorrowRainForecast\")\n",
    "#Get categoricals\n",
    "categoricals = train.select_dtypes(exclude=[np.number]).columns.tolist()    \n",
    "\n",
    "#Clen data\n",
    "train = basic_data_wrangling(train) \n",
    "X_final_test = basic_data_wrangling(test)\n",
    "train.head()"
   ]
  },
  {
   "cell_type": "code",
   "execution_count": 9,
   "metadata": {},
   "outputs": [],
   "source": [
    "#Ready data\n",
    "label = train.TomorrowRainForecast\n",
    "features = train.drop('TomorrowRainForecast', axis=1)\n",
    "X_train, X_test, y_train, y_test = train_test_split(features, label, test_size=0.33, random_state=0)"
   ]
  },
  {
   "cell_type": "code",
   "execution_count": 10,
   "metadata": {},
   "outputs": [],
   "source": [
    "#Get rid of every feature with a direction\n",
    "\n",
    "old_X_train = X_train\n",
    "\n",
    "for col_name in X_train:\n",
    "    \n",
    "    if col_name.find('Dir') != -1 and col_name.find('StrongWind')!= -1 :\n",
    "\n",
    "        X_train = X_train.drop(col_name,axis=1)\n",
    "\n",
    "        X_test = X_test.drop(col_name,axis=1)\n",
    "    "
   ]
  },
  {
   "cell_type": "code",
   "execution_count": 28,
   "metadata": {},
   "outputs": [
    {
     "data": {
      "text/plain": [
       "'\\n\\nrange_min=0\\n\\nrange_max=1\\n\\nmin_max_scaler = MinMaxScaler(feature_range=(range_min, range_max))\\n\\nX_train = min_max_scaler.fit_transform(X_train)\\n\\npd.DataFrame( X_train)\\n'"
      ]
     },
     "execution_count": 28,
     "metadata": {},
     "output_type": "execute_result"
    }
   ],
   "source": [
    "\"\"\"\n",
    "\n",
    "range_min=0\n",
    "\n",
    "range_max=1\n",
    "\n",
    "min_max_scaler = MinMaxScaler(feature_range=(range_min, range_max))\n",
    "\n",
    "X_train = min_max_scaler.fit_transform(X_train)\n",
    "\n",
    "pd.DataFrame( X_train)\n",
    "\"\"\""
   ]
  },
  {
   "cell_type": "code",
   "execution_count": 11,
   "metadata": {},
   "outputs": [
    {
     "name": "stdout",
     "output_type": "stream",
     "text": [
      "ROC AUC: 0.870390\n"
     ]
    }
   ],
   "source": [
    "#Classifier \n",
    "\n",
    "# Choose the model\n",
    "random_forest = RandomForestClassifier(random_state=10, n_estimators=500) #, n_estimators = 500) # max_depth=10\n",
    "\n",
    "'''\n",
    "random_forest = RandomForestClassifier(bootstrap=True, class_weight=None, criterion='gini',\n",
    "            max_depth=6, max_features=45, max_leaf_nodes=None,\n",
    "            min_impurity_decrease=0.0, min_impurity_split=None,\n",
    "            min_samples_leaf=1, min_samples_split=2,\n",
    "            min_weight_fraction_leaf=0.0, n_estimators=500, n_jobs=1,\n",
    "            oob_score=False, random_state=10, verbose=0,\n",
    "            warm_start=False)\n",
    "'''\n",
    "\n",
    "\n",
    "# Fit the model\n",
    "random_forest.fit(X_train, y_train)\n",
    "\n",
    "# Make the predictions\n",
    "random_forest_preds = random_forest.predict_proba(X_test)\n",
    "\n",
    "cols = X_train.columns.tolist()\n",
    "submit_preds = random_forest.predict_proba(X_final_test[cols])\n",
    "\n",
    "# Score the predictions\n",
    "score_frst = roc_auc_score(y_test, random_forest_preds[:,1])\n",
    "\n",
    "print(\"ROC AUC: %f\" % score_frst)"
   ]
  },
  {
   "cell_type": "code",
   "execution_count": 31,
   "metadata": {},
   "outputs": [
    {
     "data": {
      "text/plain": [
       "(4658, 39)"
      ]
     },
     "execution_count": 31,
     "metadata": {},
     "output_type": "execute_result"
    }
   ],
   "source": [
    "X_train.shape"
   ]
  },
  {
   "cell_type": "code",
   "execution_count": 32,
   "metadata": {},
   "outputs": [
    {
     "data": {
      "text/plain": [
       "(4658,)"
      ]
     },
     "execution_count": 32,
     "metadata": {},
     "output_type": "execute_result"
    }
   ],
   "source": [
    "y_train.shape"
   ]
  },
  {
   "cell_type": "code",
   "execution_count": 33,
   "metadata": {},
   "outputs": [
    {
     "data": {
      "text/plain": [
       "(3000, 39)"
      ]
     },
     "execution_count": 33,
     "metadata": {},
     "output_type": "execute_result"
    }
   ],
   "source": [
    "X_final_test[cols].shape"
   ]
  },
  {
   "cell_type": "code",
   "execution_count": 43,
   "metadata": {},
   "outputs": [],
   "source": [
    "#Classifier gaussian naive bayes# Choose the model\n",
    "\n",
    "naive_bayes = GaussianNB()# Fit the model\n",
    "\n",
    "naive_bayes = naive_bayes.fit(X_train, y_train)# Make the predictions\n",
    "\n",
    "naive_bayes_preds = naive_bayes.predict_proba( X_final_test[cols])\n",
    "naive_bayes_preds2 = naive_bayes.predict_proba( X_test)\n",
    "# Score the predictions\n",
    "\n",
    "score_gaus = roc_auc_score(y_test, naive_bayes_preds2[:,1])\n",
    "#print(\"ROC AUC: %f\" % score_gaus)\n"
   ]
  },
  {
   "cell_type": "code",
   "execution_count": 54,
   "metadata": {},
   "outputs": [],
   "source": [
    "logReg = LogisticRegression(random_state=10)\n"
   ]
  },
  {
   "cell_type": "code",
   "execution_count": 55,
   "metadata": {},
   "outputs": [
    {
     "name": "stdout",
     "output_type": "stream",
     "text": [
      "[0.8812981  0.01354855 0.17339592 ... 0.03721223 0.07927122 0.05134079]\n"
     ]
    }
   ],
   "source": [
    "#Voting classifier\n",
    "\n",
    "#total = score_frst + score_gaus\n",
    "\n",
    "#weights = [score_frst/total ,score_gaus/total ]\n",
    "\n",
    "#eclf1 = VotingClassifier(estimators=[('rand_frst', random_forest), ('naive_bayes', naive_bayes)], voting='soft', weights = weights )\n",
    "eclf1 = VotingClassifier(estimators=[('rand_frst', random_forest), ('naive_bayes', naive_bayes),('logreg',logReg)], voting='soft')\n",
    "\n",
    "eclf1 = eclf1.fit(X_train,y_train)\n",
    "\n",
    "results=eclf1.predict_proba(X_final_test[cols])[:,1]\n",
    "\n",
    "print(results)"
   ]
  },
  {
   "cell_type": "code",
   "execution_count": null,
   "metadata": {},
   "outputs": [],
   "source": [
    "X_train.head()"
   ]
  },
  {
   "cell_type": "code",
   "execution_count": 12,
   "metadata": {},
   "outputs": [],
   "source": [
    "from sklearn.model_selection import cross_val_score, cross_validate\n",
    "grid_results = cross_validate(random_forest, X_test, y_test, scoring=\"roc_auc\", \n",
    "                              return_train_score=True, cv=5)\n",
    "\n"
   ]
  },
  {
   "cell_type": "code",
   "execution_count": 14,
   "metadata": {},
   "outputs": [
    {
     "data": {
      "text/plain": [
       "fit_time       1.276244\n",
       "score_time     0.058050\n",
       "test_score     0.855860\n",
       "train_score    1.000000\n",
       "dtype: float64"
      ]
     },
     "execution_count": 14,
     "metadata": {},
     "output_type": "execute_result"
    }
   ],
   "source": [
    "grid_results\n",
    "pd.DataFrame(grid_results).mean()\n"
   ]
  },
  {
   "cell_type": "code",
   "execution_count": null,
   "metadata": {},
   "outputs": [],
   "source": [
    "X_test.head()"
   ]
  },
  {
   "cell_type": "code",
   "execution_count": null,
   "metadata": {},
   "outputs": [],
   "source": [
    "independent_variables = numericals\n",
    "estimator=DecisionTreeClassifier()\n",
    "\n",
    "random_search_parameter_space_dist = {\n",
    "                   \"max_depth\": randint(1, 100),\n",
    "                   \"max_features\": randint(1, len(independent_variables)),\n",
    "                   \"class_weight\": [\"balanced\", None]\n",
    "                  }\n",
    "\n",
    "randomized_search = RandomizedSearchCV(\n",
    "                        estimator, \n",
    "                        random_search_parameter_space_dist,\n",
    "                        cv=5, n_iter=250,\n",
    "                        random_state=42,\n",
    "                        return_train_score=True, \n",
    "                        n_jobs = 10 )"
   ]
  },
  {
   "cell_type": "code",
   "execution_count": null,
   "metadata": {},
   "outputs": [],
   "source": [
    "%%timeit -n 1 -r 1\n",
    "\n",
    "randomized_search.fit(X_train, y_train)"
   ]
  },
  {
   "cell_type": "code",
   "execution_count": null,
   "metadata": {},
   "outputs": [],
   "source": [
    "randomized_search.best_estimator_"
   ]
  },
  {
   "cell_type": "code",
   "execution_count": null,
   "metadata": {},
   "outputs": [],
   "source": [
    "randomized_search.best_score_"
   ]
  },
  {
   "cell_type": "code",
   "execution_count": null,
   "metadata": {},
   "outputs": [],
   "source": [
    "randomized_search = RandomizedSearchCV(\n",
    "                        RandomForestClassifier(), \n",
    "                        random_search_parameter_space_dist,\n",
    "                        cv=5, n_iter=250,\n",
    "                        random_state=42,\n",
    "                        return_train_score=True, \n",
    "                        n_jobs = 10 )"
   ]
  },
  {
   "cell_type": "code",
   "execution_count": null,
   "metadata": {},
   "outputs": [],
   "source": [
    "%%timeit -n 1 -r 1\n",
    "\n",
    "randomized_search.fit(X_train, y_train)"
   ]
  },
  {
   "cell_type": "code",
   "execution_count": null,
   "metadata": {},
   "outputs": [],
   "source": [
    "randomized_search.best_estimator_"
   ]
  },
  {
   "cell_type": "code",
   "execution_count": null,
   "metadata": {},
   "outputs": [],
   "source": [
    "randomized_search.best_score_"
   ]
  },
  {
   "cell_type": "code",
   "execution_count": 56,
   "metadata": {},
   "outputs": [
    {
     "name": "stdout",
     "output_type": "stream",
     "text": [
      "3000\n"
     ]
    }
   ],
   "source": [
    "#results = submit_preds[:,1]\n",
    "print(len(results))\n",
    "predictions = pd.DataFrame({'ID': X_final_test.index,'TomorrowRainForecast':results})\n",
    "#Output\n",
    "\n",
    "predictions.to_csv('predictions_vote_2.csv', index=False)\n"
   ]
  },
  {
   "cell_type": "code",
   "execution_count": null,
   "metadata": {},
   "outputs": [],
   "source": [
    "#Output\n",
    "\n",
    "predictions.to_csv('predictions.csv', index=False)"
   ]
  },
  {
   "cell_type": "code",
   "execution_count": null,
   "metadata": {},
   "outputs": [],
   "source": [
    "#Plot\n",
    "\"\"\"\n",
    "feature_importances = random_forest.feature_importances_\n",
    "feature_importances = pd.Series(feature_importances, index=X_train.columns, name=\"feature_importance_value\")\n",
    "matplotlib.rcParams[\"figure.figsize\"] = [18, 18]\n",
    "feature_importances.plot.barh();\"\"\""
   ]
  },
  {
   "cell_type": "code",
   "execution_count": null,
   "metadata": {},
   "outputs": [],
   "source": [
    "random_forest_preds"
   ]
  },
  {
   "cell_type": "code",
   "execution_count": null,
   "metadata": {},
   "outputs": [],
   "source": []
  }
 ],
 "metadata": {
  "kernelspec": {
   "display_name": "Python 3",
   "language": "python",
   "name": "python3"
  },
  "language_info": {
   "codemirror_mode": {
    "name": "ipython",
    "version": 3
   },
   "file_extension": ".py",
   "mimetype": "text/x-python",
   "name": "python",
   "nbconvert_exporter": "python",
   "pygments_lexer": "ipython3",
   "version": "3.5.5"
  }
 },
 "nbformat": 4,
 "nbformat_minor": 2
}
