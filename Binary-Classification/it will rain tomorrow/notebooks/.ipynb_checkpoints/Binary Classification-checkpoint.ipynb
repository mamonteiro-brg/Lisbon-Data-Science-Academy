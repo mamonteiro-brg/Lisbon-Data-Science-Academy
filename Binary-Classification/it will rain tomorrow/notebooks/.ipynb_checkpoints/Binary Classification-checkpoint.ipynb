{
 "cells": [
  {
   "cell_type": "markdown",
   "metadata": {},
   "source": [
    "# Hackathon #1 - Binary Classification - Template\n",
    "Always check the [Reference Document](https://docs.google.com/document/d/1A-1-UK9ol4tegfU4YQySEiBXBeqbx_tu1qdmiMAzNCM/edit?usp=sharing) for all information ;) \n",
    "\n",
    "Remember to keep your workflow consistent!\n",
    "\n",
    "## Regarding the Data\n",
    "- The dataset can be loaded with `load_data()` (check the already provided code below). It will output two dataframes:\n",
    "  - `train`: labeled dataset (with target) \n",
    "  - `test`: unlabeled dataset (target is not available)\n",
    "- You will use the `train` data to do your magic! When you are finished and have a predictive model you will have to make predictions using the `test` data and submit it to our platform (where you will get a AUC value - kind of what happens in Kaggle competitions). Check the file `submission_example.csv` for an example and the [Reference Document](https://docs.google.com/document/d/1A-1-UK9ol4tegfU4YQySEiBXBeqbx_tu1qdmiMAzNCM/edit?usp=sharing) for further information.\n",
    "- You can and should perform train-test splits on the `train` data that you have available. Cross-validation is highly recommended. \n",
    "- The target name is `TomorrowRainForecast`: it is either 1 (rains tomorrow) and 0 (does not rain tomorrow).\n",
    "- The `ID` is the identification variable which is very important for keeping track of the predictions you will make on the `test` data.\n",
    "\n",
    "*Good luck,  \n",
    "LDSA team*"
   ]
  },
  {
   "cell_type": "markdown",
   "metadata": {},
   "source": [
    "# Implementing a Binary Classifier in Python "
   ]
  },
  {
   "cell_type": "markdown",
   "metadata": {},
   "source": [
    "# Imports"
   ]
  },
  {
   "cell_type": "code",
   "execution_count": 193,
   "metadata": {},
   "outputs": [],
   "source": [
    "\n",
    "import pandas as pd\n",
    "import numpy as np\n",
    "\n",
    "import seaborn as sns\n",
    "import matplotlib.pyplot as plt\n",
    "%matplotlib inline\n",
    "\n",
    "from sklearn.preprocessing import MinMaxScaler\n",
    "\n",
    "# Import the classifiers that can be used in a binary calssification problem\n",
    "from sklearn.neighbors import KNeighborsClassifier\n",
    "from sklearn.naive_bayes import GaussianNB\n",
    "from sklearn.tree import DecisionTreeClassifier\n",
    "from sklearn.ensemble import RandomForestClassifier, VotingClassifier\n",
    "from sklearn.model_selection import RandomizedSearchCV\n",
    "from sklearn.linear_model import LogisticRegression\n",
    "\n",
    "\n",
    "from sklearn.model_selection import train_test_split"
   ]
  },
  {
   "cell_type": "raw",
   "metadata": {},
   "source": [
    "Machine Learning Model\n",
    "     Data Preprocessing\n",
    "     Learning\n",
    "     Evaluation\n",
    "     Prediction\n",
    "     \n",
    "Steps involved in Data Preprocessing:\n",
    "\n",
    "   Data Cleaning — Fill in the missing values, detect and remove noisy data and outliers.\n",
    "\n",
    "   Data Transformation — Normalize data to reduce dimensions and noise.\n",
    "\n",
    "   Data Reduction — Sample data records or attributes for easier data handling.\n",
    "\n",
    "   Data Discretization — Convert continuous attributes to categorical attributes for ease of use with certain machine learning methods.\n",
    "\n",
    "   Text Cleaning — Remove embedded characters which may cause data misalignment, for e.g., embedded tabs in a tab-separated data file, embedded new lines which may break records, etc.\n",
    "\n",
    "Classification Metrics\n",
    "\n",
    "   Classification Accuracy\n",
    "   Logarithmic Loss\n",
    "   Area Under ROC Curve\n",
    "   Confusion Matrix\n",
    "   Classification Report\n"
   ]
  },
  {
   "cell_type": "code",
   "execution_count": 194,
   "metadata": {},
   "outputs": [],
   "source": [
    "#Import data\n",
    "train = pd.read_csv(\"../data/train.csv\", index_col='ID')\n",
    "test = pd.read_csv(\"../data/test.csv\",  index_col='ID')"
   ]
  },
  {
   "cell_type": "code",
   "execution_count": 195,
   "metadata": {},
   "outputs": [
    {
     "data": {
      "text/html": [
       "<div>\n",
       "<style scoped>\n",
       "    .dataframe tbody tr th:only-of-type {\n",
       "        vertical-align: middle;\n",
       "    }\n",
       "\n",
       "    .dataframe tbody tr th {\n",
       "        vertical-align: top;\n",
       "    }\n",
       "\n",
       "    .dataframe thead th {\n",
       "        text-align: right;\n",
       "    }\n",
       "</style>\n",
       "<table border=\"1\" class=\"dataframe\">\n",
       "  <thead>\n",
       "    <tr style=\"text-align: right;\">\n",
       "      <th></th>\n",
       "      <th>AmountRain</th>\n",
       "      <th>StrongWindDir</th>\n",
       "      <th>StrongWindSpeed</th>\n",
       "      <th>MorningWindDir</th>\n",
       "      <th>AfternoonWindDir</th>\n",
       "      <th>AfternoonWindSpeed</th>\n",
       "      <th>MorningHumidity</th>\n",
       "      <th>AfternoonHumidity</th>\n",
       "      <th>MorningTemp</th>\n",
       "      <th>AfternoonTemp</th>\n",
       "      <th>DidRainToday</th>\n",
       "      <th>DaysSinceNewYear</th>\n",
       "      <th>TomorrowRainForecast</th>\n",
       "    </tr>\n",
       "    <tr>\n",
       "      <th>ID</th>\n",
       "      <th></th>\n",
       "      <th></th>\n",
       "      <th></th>\n",
       "      <th></th>\n",
       "      <th></th>\n",
       "      <th></th>\n",
       "      <th></th>\n",
       "      <th></th>\n",
       "      <th></th>\n",
       "      <th></th>\n",
       "      <th></th>\n",
       "      <th></th>\n",
       "      <th></th>\n",
       "    </tr>\n",
       "  </thead>\n",
       "  <tbody>\n",
       "    <tr>\n",
       "      <th>5683</th>\n",
       "      <td>0.0</td>\n",
       "      <td>WSW</td>\n",
       "      <td>43.0</td>\n",
       "      <td>N</td>\n",
       "      <td>SW</td>\n",
       "      <td>17.0</td>\n",
       "      <td>82.0</td>\n",
       "      <td>51.0</td>\n",
       "      <td>15.4</td>\n",
       "      <td>20.8</td>\n",
       "      <td>No</td>\n",
       "      <td>268</td>\n",
       "      <td>0</td>\n",
       "    </tr>\n",
       "    <tr>\n",
       "      <th>2971</th>\n",
       "      <td>0.0</td>\n",
       "      <td>E</td>\n",
       "      <td>15.0</td>\n",
       "      <td>NaN</td>\n",
       "      <td>SE</td>\n",
       "      <td>7.0</td>\n",
       "      <td>91.0</td>\n",
       "      <td>63.0</td>\n",
       "      <td>9.7</td>\n",
       "      <td>16.6</td>\n",
       "      <td>No</td>\n",
       "      <td>136</td>\n",
       "      <td>0</td>\n",
       "    </tr>\n",
       "    <tr>\n",
       "      <th>3560</th>\n",
       "      <td>0.0</td>\n",
       "      <td>S</td>\n",
       "      <td>33.0</td>\n",
       "      <td>WSW</td>\n",
       "      <td>WSW</td>\n",
       "      <td>17.0</td>\n",
       "      <td>58.0</td>\n",
       "      <td>38.0</td>\n",
       "      <td>10.9</td>\n",
       "      <td>15.9</td>\n",
       "      <td>No</td>\n",
       "      <td>217</td>\n",
       "      <td>0</td>\n",
       "    </tr>\n",
       "    <tr>\n",
       "      <th>2304</th>\n",
       "      <td>10.0</td>\n",
       "      <td>NE</td>\n",
       "      <td>30.0</td>\n",
       "      <td>S</td>\n",
       "      <td>SSE</td>\n",
       "      <td>11.0</td>\n",
       "      <td>96.0</td>\n",
       "      <td>93.0</td>\n",
       "      <td>4.7</td>\n",
       "      <td>6.4</td>\n",
       "      <td>Yes</td>\n",
       "      <td>195</td>\n",
       "      <td>1</td>\n",
       "    </tr>\n",
       "    <tr>\n",
       "      <th>3573</th>\n",
       "      <td>0.0</td>\n",
       "      <td>WSW</td>\n",
       "      <td>48.0</td>\n",
       "      <td>NaN</td>\n",
       "      <td>SW</td>\n",
       "      <td>26.0</td>\n",
       "      <td>59.0</td>\n",
       "      <td>40.0</td>\n",
       "      <td>11.5</td>\n",
       "      <td>15.9</td>\n",
       "      <td>No</td>\n",
       "      <td>232</td>\n",
       "      <td>0</td>\n",
       "    </tr>\n",
       "  </tbody>\n",
       "</table>\n",
       "</div>"
      ],
      "text/plain": [
       "      AmountRain StrongWindDir  StrongWindSpeed MorningWindDir  \\\n",
       "ID                                                               \n",
       "5683         0.0           WSW             43.0              N   \n",
       "2971         0.0             E             15.0            NaN   \n",
       "3560         0.0             S             33.0            WSW   \n",
       "2304        10.0            NE             30.0              S   \n",
       "3573         0.0           WSW             48.0            NaN   \n",
       "\n",
       "     AfternoonWindDir  AfternoonWindSpeed  MorningHumidity  AfternoonHumidity  \\\n",
       "ID                                                                              \n",
       "5683               SW                17.0             82.0               51.0   \n",
       "2971               SE                 7.0             91.0               63.0   \n",
       "3560              WSW                17.0             58.0               38.0   \n",
       "2304              SSE                11.0             96.0               93.0   \n",
       "3573               SW                26.0             59.0               40.0   \n",
       "\n",
       "      MorningTemp  AfternoonTemp DidRainToday  DaysSinceNewYear  \\\n",
       "ID                                                                \n",
       "5683         15.4           20.8           No               268   \n",
       "2971          9.7           16.6           No               136   \n",
       "3560         10.9           15.9           No               217   \n",
       "2304          4.7            6.4          Yes               195   \n",
       "3573         11.5           15.9           No               232   \n",
       "\n",
       "      TomorrowRainForecast  \n",
       "ID                          \n",
       "5683                     0  \n",
       "2971                     0  \n",
       "3560                     0  \n",
       "2304                     1  \n",
       "3573                     0  "
      ]
     },
     "execution_count": 195,
     "metadata": {},
     "output_type": "execute_result"
    }
   ],
   "source": [
    "train.head(5)"
   ]
  },
  {
   "cell_type": "code",
   "execution_count": 196,
   "metadata": {},
   "outputs": [
    {
     "data": {
      "text/html": [
       "<div>\n",
       "<style scoped>\n",
       "    .dataframe tbody tr th:only-of-type {\n",
       "        vertical-align: middle;\n",
       "    }\n",
       "\n",
       "    .dataframe tbody tr th {\n",
       "        vertical-align: top;\n",
       "    }\n",
       "\n",
       "    .dataframe thead th {\n",
       "        text-align: right;\n",
       "    }\n",
       "</style>\n",
       "<table border=\"1\" class=\"dataframe\">\n",
       "  <thead>\n",
       "    <tr style=\"text-align: right;\">\n",
       "      <th></th>\n",
       "      <th>AmountRain</th>\n",
       "      <th>StrongWindDir</th>\n",
       "      <th>StrongWindSpeed</th>\n",
       "      <th>MorningWindDir</th>\n",
       "      <th>AfternoonWindDir</th>\n",
       "      <th>AfternoonWindSpeed</th>\n",
       "      <th>MorningHumidity</th>\n",
       "      <th>AfternoonHumidity</th>\n",
       "      <th>MorningTemp</th>\n",
       "      <th>AfternoonTemp</th>\n",
       "      <th>DidRainToday</th>\n",
       "      <th>DaysSinceNewYear</th>\n",
       "    </tr>\n",
       "    <tr>\n",
       "      <th>ID</th>\n",
       "      <th></th>\n",
       "      <th></th>\n",
       "      <th></th>\n",
       "      <th></th>\n",
       "      <th></th>\n",
       "      <th></th>\n",
       "      <th></th>\n",
       "      <th></th>\n",
       "      <th></th>\n",
       "      <th></th>\n",
       "      <th></th>\n",
       "      <th></th>\n",
       "    </tr>\n",
       "  </thead>\n",
       "  <tbody>\n",
       "    <tr>\n",
       "      <th>9292</th>\n",
       "      <td>0.0</td>\n",
       "      <td>NNE</td>\n",
       "      <td>56.0</td>\n",
       "      <td>NNW</td>\n",
       "      <td>NNE</td>\n",
       "      <td>35.0</td>\n",
       "      <td>77.0</td>\n",
       "      <td>70.0</td>\n",
       "      <td>24.9</td>\n",
       "      <td>27.0</td>\n",
       "      <td>No</td>\n",
       "      <td>1</td>\n",
       "    </tr>\n",
       "    <tr>\n",
       "      <th>7569</th>\n",
       "      <td>0.0</td>\n",
       "      <td>NNW</td>\n",
       "      <td>39.0</td>\n",
       "      <td>NNE</td>\n",
       "      <td>NW</td>\n",
       "      <td>22.0</td>\n",
       "      <td>34.0</td>\n",
       "      <td>12.0</td>\n",
       "      <td>18.6</td>\n",
       "      <td>27.9</td>\n",
       "      <td>No</td>\n",
       "      <td>264</td>\n",
       "    </tr>\n",
       "    <tr>\n",
       "      <th>9408</th>\n",
       "      <td>0.0</td>\n",
       "      <td>NNW</td>\n",
       "      <td>24.0</td>\n",
       "      <td>WNW</td>\n",
       "      <td>E</td>\n",
       "      <td>11.0</td>\n",
       "      <td>53.0</td>\n",
       "      <td>46.0</td>\n",
       "      <td>22.6</td>\n",
       "      <td>24.0</td>\n",
       "      <td>No</td>\n",
       "      <td>117</td>\n",
       "    </tr>\n",
       "    <tr>\n",
       "      <th>7337</th>\n",
       "      <td>0.0</td>\n",
       "      <td>NNE</td>\n",
       "      <td>46.0</td>\n",
       "      <td>NNE</td>\n",
       "      <td>NE</td>\n",
       "      <td>20.0</td>\n",
       "      <td>27.0</td>\n",
       "      <td>16.0</td>\n",
       "      <td>34.1</td>\n",
       "      <td>40.5</td>\n",
       "      <td>No</td>\n",
       "      <td>4</td>\n",
       "    </tr>\n",
       "    <tr>\n",
       "      <th>7928</th>\n",
       "      <td>0.0</td>\n",
       "      <td>WSW</td>\n",
       "      <td>39.0</td>\n",
       "      <td>WSW</td>\n",
       "      <td>WSW</td>\n",
       "      <td>22.0</td>\n",
       "      <td>55.0</td>\n",
       "      <td>34.0</td>\n",
       "      <td>14.8</td>\n",
       "      <td>19.9</td>\n",
       "      <td>No</td>\n",
       "      <td>258</td>\n",
       "    </tr>\n",
       "  </tbody>\n",
       "</table>\n",
       "</div>"
      ],
      "text/plain": [
       "      AmountRain StrongWindDir  StrongWindSpeed MorningWindDir  \\\n",
       "ID                                                               \n",
       "9292         0.0           NNE             56.0            NNW   \n",
       "7569         0.0           NNW             39.0            NNE   \n",
       "9408         0.0           NNW             24.0            WNW   \n",
       "7337         0.0           NNE             46.0            NNE   \n",
       "7928         0.0           WSW             39.0            WSW   \n",
       "\n",
       "     AfternoonWindDir  AfternoonWindSpeed  MorningHumidity  AfternoonHumidity  \\\n",
       "ID                                                                              \n",
       "9292              NNE                35.0             77.0               70.0   \n",
       "7569               NW                22.0             34.0               12.0   \n",
       "9408                E                11.0             53.0               46.0   \n",
       "7337               NE                20.0             27.0               16.0   \n",
       "7928              WSW                22.0             55.0               34.0   \n",
       "\n",
       "      MorningTemp  AfternoonTemp DidRainToday  DaysSinceNewYear  \n",
       "ID                                                               \n",
       "9292         24.9           27.0           No                 1  \n",
       "7569         18.6           27.9           No               264  \n",
       "9408         22.6           24.0           No               117  \n",
       "7337         34.1           40.5           No                 4  \n",
       "7928         14.8           19.9           No               258  "
      ]
     },
     "execution_count": 196,
     "metadata": {},
     "output_type": "execute_result"
    }
   ],
   "source": [
    "test.head(5)"
   ]
  },
  {
   "cell_type": "raw",
   "metadata": {},
   "source": [
    "we will perform train-test splits on the train data that we have available.\n",
    "We will do a Cross-validation since this is highly recommended.\n",
    "The target name is TomorrowRainForecast: it is either 1 (rains tomorrow) and 0 (does not rain tomorrow).    "
   ]
  },
  {
   "cell_type": "code",
   "execution_count": 197,
   "metadata": {
    "scrolled": true
   },
   "outputs": [
    {
     "name": "stdout",
     "output_type": "stream",
     "text": [
      "<class 'pandas.core.frame.DataFrame'>\n",
      "Int64Index: 6953 entries, 5683 to 2444\n",
      "Data columns (total 13 columns):\n",
      "AmountRain              6880 non-null float64\n",
      "StrongWindDir           6914 non-null object\n",
      "StrongWindSpeed         6914 non-null float64\n",
      "MorningWindDir          6035 non-null object\n",
      "AfternoonWindDir        6849 non-null object\n",
      "AfternoonWindSpeed      6922 non-null float64\n",
      "MorningHumidity         6917 non-null float64\n",
      "AfternoonHumidity       6917 non-null float64\n",
      "MorningTemp             6930 non-null float64\n",
      "AfternoonTemp           6928 non-null float64\n",
      "DidRainToday            6880 non-null object\n",
      "DaysSinceNewYear        6953 non-null int64\n",
      "TomorrowRainForecast    6953 non-null int64\n",
      "dtypes: float64(7), int64(2), object(4)\n",
      "memory usage: 760.5+ KB\n"
     ]
    }
   ],
   "source": [
    "train.info()"
   ]
  },
  {
   "cell_type": "code",
   "execution_count": 198,
   "metadata": {
    "scrolled": true
   },
   "outputs": [
    {
     "data": {
      "text/html": [
       "<div>\n",
       "<style scoped>\n",
       "    .dataframe tbody tr th:only-of-type {\n",
       "        vertical-align: middle;\n",
       "    }\n",
       "\n",
       "    .dataframe tbody tr th {\n",
       "        vertical-align: top;\n",
       "    }\n",
       "\n",
       "    .dataframe thead th {\n",
       "        text-align: right;\n",
       "    }\n",
       "</style>\n",
       "<table border=\"1\" class=\"dataframe\">\n",
       "  <thead>\n",
       "    <tr style=\"text-align: right;\">\n",
       "      <th></th>\n",
       "      <th>AmountRain</th>\n",
       "      <th>StrongWindSpeed</th>\n",
       "      <th>AfternoonWindSpeed</th>\n",
       "      <th>MorningHumidity</th>\n",
       "      <th>AfternoonHumidity</th>\n",
       "      <th>MorningTemp</th>\n",
       "      <th>AfternoonTemp</th>\n",
       "      <th>DaysSinceNewYear</th>\n",
       "      <th>TomorrowRainForecast</th>\n",
       "    </tr>\n",
       "  </thead>\n",
       "  <tbody>\n",
       "    <tr>\n",
       "      <th>count</th>\n",
       "      <td>6880.000000</td>\n",
       "      <td>6914.000000</td>\n",
       "      <td>6922.000000</td>\n",
       "      <td>6917.000000</td>\n",
       "      <td>6917.000000</td>\n",
       "      <td>6930.000000</td>\n",
       "      <td>6928.000000</td>\n",
       "      <td>6953.000000</td>\n",
       "      <td>6953.000000</td>\n",
       "    </tr>\n",
       "    <tr>\n",
       "      <th>mean</th>\n",
       "      <td>1.944041</td>\n",
       "      <td>33.697426</td>\n",
       "      <td>14.122797</td>\n",
       "      <td>72.891427</td>\n",
       "      <td>47.636114</td>\n",
       "      <td>15.767547</td>\n",
       "      <td>22.219125</td>\n",
       "      <td>177.365741</td>\n",
       "      <td>0.193586</td>\n",
       "    </tr>\n",
       "    <tr>\n",
       "      <th>std</th>\n",
       "      <td>6.586221</td>\n",
       "      <td>12.883869</td>\n",
       "      <td>7.251122</td>\n",
       "      <td>18.690028</td>\n",
       "      <td>19.940125</td>\n",
       "      <td>6.002202</td>\n",
       "      <td>6.954120</td>\n",
       "      <td>104.510654</td>\n",
       "      <td>0.395136</td>\n",
       "    </tr>\n",
       "    <tr>\n",
       "      <th>min</th>\n",
       "      <td>0.000000</td>\n",
       "      <td>7.000000</td>\n",
       "      <td>0.000000</td>\n",
       "      <td>6.000000</td>\n",
       "      <td>1.000000</td>\n",
       "      <td>0.300000</td>\n",
       "      <td>6.400000</td>\n",
       "      <td>0.000000</td>\n",
       "      <td>0.000000</td>\n",
       "    </tr>\n",
       "    <tr>\n",
       "      <th>25%</th>\n",
       "      <td>0.000000</td>\n",
       "      <td>24.000000</td>\n",
       "      <td>9.000000</td>\n",
       "      <td>60.000000</td>\n",
       "      <td>33.000000</td>\n",
       "      <td>11.100000</td>\n",
       "      <td>16.700000</td>\n",
       "      <td>86.000000</td>\n",
       "      <td>0.000000</td>\n",
       "    </tr>\n",
       "    <tr>\n",
       "      <th>50%</th>\n",
       "      <td>0.000000</td>\n",
       "      <td>31.000000</td>\n",
       "      <td>13.000000</td>\n",
       "      <td>74.000000</td>\n",
       "      <td>46.000000</td>\n",
       "      <td>15.900000</td>\n",
       "      <td>21.500000</td>\n",
       "      <td>174.000000</td>\n",
       "      <td>0.000000</td>\n",
       "    </tr>\n",
       "    <tr>\n",
       "      <th>75%</th>\n",
       "      <td>0.400000</td>\n",
       "      <td>41.000000</td>\n",
       "      <td>19.000000</td>\n",
       "      <td>87.000000</td>\n",
       "      <td>60.000000</td>\n",
       "      <td>20.100000</td>\n",
       "      <td>27.200000</td>\n",
       "      <td>267.000000</td>\n",
       "      <td>0.000000</td>\n",
       "    </tr>\n",
       "    <tr>\n",
       "      <th>max</th>\n",
       "      <td>116.000000</td>\n",
       "      <td>107.000000</td>\n",
       "      <td>56.000000</td>\n",
       "      <td>100.000000</td>\n",
       "      <td>100.000000</td>\n",
       "      <td>37.600000</td>\n",
       "      <td>43.700000</td>\n",
       "      <td>365.000000</td>\n",
       "      <td>1.000000</td>\n",
       "    </tr>\n",
       "  </tbody>\n",
       "</table>\n",
       "</div>"
      ],
      "text/plain": [
       "        AmountRain  StrongWindSpeed  AfternoonWindSpeed  MorningHumidity  \\\n",
       "count  6880.000000      6914.000000         6922.000000      6917.000000   \n",
       "mean      1.944041        33.697426           14.122797        72.891427   \n",
       "std       6.586221        12.883869            7.251122        18.690028   \n",
       "min       0.000000         7.000000            0.000000         6.000000   \n",
       "25%       0.000000        24.000000            9.000000        60.000000   \n",
       "50%       0.000000        31.000000           13.000000        74.000000   \n",
       "75%       0.400000        41.000000           19.000000        87.000000   \n",
       "max     116.000000       107.000000           56.000000       100.000000   \n",
       "\n",
       "       AfternoonHumidity  MorningTemp  AfternoonTemp  DaysSinceNewYear  \\\n",
       "count        6917.000000  6930.000000    6928.000000       6953.000000   \n",
       "mean           47.636114    15.767547      22.219125        177.365741   \n",
       "std            19.940125     6.002202       6.954120        104.510654   \n",
       "min             1.000000     0.300000       6.400000          0.000000   \n",
       "25%            33.000000    11.100000      16.700000         86.000000   \n",
       "50%            46.000000    15.900000      21.500000        174.000000   \n",
       "75%            60.000000    20.100000      27.200000        267.000000   \n",
       "max           100.000000    37.600000      43.700000        365.000000   \n",
       "\n",
       "       TomorrowRainForecast  \n",
       "count           6953.000000  \n",
       "mean               0.193586  \n",
       "std                0.395136  \n",
       "min                0.000000  \n",
       "25%                0.000000  \n",
       "50%                0.000000  \n",
       "75%                0.000000  \n",
       "max                1.000000  "
      ]
     },
     "execution_count": 198,
     "metadata": {},
     "output_type": "execute_result"
    }
   ],
   "source": [
    "train.describe()"
   ]
  },
  {
   "cell_type": "code",
   "execution_count": 199,
   "metadata": {},
   "outputs": [
    {
     "data": {
      "text/html": [
       "<div>\n",
       "<style scoped>\n",
       "    .dataframe tbody tr th:only-of-type {\n",
       "        vertical-align: middle;\n",
       "    }\n",
       "\n",
       "    .dataframe tbody tr th {\n",
       "        vertical-align: top;\n",
       "    }\n",
       "\n",
       "    .dataframe thead th {\n",
       "        text-align: right;\n",
       "    }\n",
       "</style>\n",
       "<table border=\"1\" class=\"dataframe\">\n",
       "  <thead>\n",
       "    <tr style=\"text-align: right;\">\n",
       "      <th></th>\n",
       "      <th>StrongWindDir</th>\n",
       "      <th>MorningWindDir</th>\n",
       "      <th>AfternoonWindDir</th>\n",
       "      <th>DidRainToday</th>\n",
       "    </tr>\n",
       "    <tr>\n",
       "      <th>ID</th>\n",
       "      <th></th>\n",
       "      <th></th>\n",
       "      <th></th>\n",
       "      <th></th>\n",
       "    </tr>\n",
       "  </thead>\n",
       "  <tbody>\n",
       "    <tr>\n",
       "      <th>5683</th>\n",
       "      <td>WSW</td>\n",
       "      <td>N</td>\n",
       "      <td>SW</td>\n",
       "      <td>No</td>\n",
       "    </tr>\n",
       "    <tr>\n",
       "      <th>2971</th>\n",
       "      <td>E</td>\n",
       "      <td>NaN</td>\n",
       "      <td>SE</td>\n",
       "      <td>No</td>\n",
       "    </tr>\n",
       "    <tr>\n",
       "      <th>3560</th>\n",
       "      <td>S</td>\n",
       "      <td>WSW</td>\n",
       "      <td>WSW</td>\n",
       "      <td>No</td>\n",
       "    </tr>\n",
       "    <tr>\n",
       "      <th>2304</th>\n",
       "      <td>NE</td>\n",
       "      <td>S</td>\n",
       "      <td>SSE</td>\n",
       "      <td>Yes</td>\n",
       "    </tr>\n",
       "    <tr>\n",
       "      <th>3573</th>\n",
       "      <td>WSW</td>\n",
       "      <td>NaN</td>\n",
       "      <td>SW</td>\n",
       "      <td>No</td>\n",
       "    </tr>\n",
       "  </tbody>\n",
       "</table>\n",
       "</div>"
      ],
      "text/plain": [
       "     StrongWindDir MorningWindDir AfternoonWindDir DidRainToday\n",
       "ID                                                             \n",
       "5683           WSW              N               SW           No\n",
       "2971             E            NaN               SE           No\n",
       "3560             S            WSW              WSW           No\n",
       "2304            NE              S              SSE          Yes\n",
       "3573           WSW            NaN               SW           No"
      ]
     },
     "execution_count": 199,
     "metadata": {},
     "output_type": "execute_result"
    }
   ],
   "source": [
    "train.select_dtypes(include='object').head()"
   ]
  },
  {
   "cell_type": "code",
   "execution_count": 200,
   "metadata": {},
   "outputs": [
    {
     "data": {
      "text/plain": [
       "AmountRain               73\n",
       "StrongWindDir            39\n",
       "StrongWindSpeed          39\n",
       "MorningWindDir          918\n",
       "AfternoonWindDir        104\n",
       "AfternoonWindSpeed       31\n",
       "MorningHumidity          36\n",
       "AfternoonHumidity        36\n",
       "MorningTemp              23\n",
       "AfternoonTemp            25\n",
       "DidRainToday             73\n",
       "DaysSinceNewYear          0\n",
       "TomorrowRainForecast      0\n",
       "dtype: int64"
      ]
     },
     "execution_count": 200,
     "metadata": {},
     "output_type": "execute_result"
    }
   ],
   "source": [
    "train.isnull().sum()"
   ]
  },
  {
   "cell_type": "markdown",
   "metadata": {},
   "source": [
    "## EDA - Exploratory data analysis"
   ]
  },
  {
   "cell_type": "code",
   "execution_count": 201,
   "metadata": {},
   "outputs": [
    {
     "data": {
      "image/png": "[encoded data removed]",
      "text/plain": [
       "<Figure size 432x288 with 1 Axes>"
      ]
     },
     "metadata": {},
     "output_type": "display_data"
    }
   ],
   "source": [
    "train.plot.scatter(x='MorningTemp', y='AfternoonTemp');"
   ]
  },
  {
   "cell_type": "code",
   "execution_count": 202,
   "metadata": {},
   "outputs": [
    {
     "data": {
      "image/png": "[encoded data removed]",
      "text/plain": [
       "<Figure size 432x288 with 1 Axes>"
      ]
     },
     "metadata": {},
     "output_type": "display_data"
    }
   ],
   "source": [
    "train.plot.scatter(x='MorningHumidity', y='AfternoonHumidity');"
   ]
  },
  {
   "cell_type": "code",
   "execution_count": 203,
   "metadata": {},
   "outputs": [
    {
     "data": {
      "image/png": "[encoded data removed]",
      "text/plain": [
       "<Figure size 432x288 with 1 Axes>"
      ]
     },
     "metadata": {},
     "output_type": "display_data"
    }
   ],
   "source": [
    "train.plot.scatter(x='MorningHumidity', y='MorningTemp');"
   ]
  },
  {
   "cell_type": "code",
   "execution_count": 204,
   "metadata": {},
   "outputs": [
    {
     "data": {
      "image/png": "[encoded data removed]",
      "text/plain": [
       "<Figure size 432x288 with 1 Axes>"
      ]
     },
     "metadata": {},
     "output_type": "display_data"
    }
   ],
   "source": [
    "train.plot.scatter(x='AfternoonHumidity', y='AfternoonTemp');"
   ]
  },
  {
   "cell_type": "code",
   "execution_count": 205,
   "metadata": {},
   "outputs": [
    {
     "data": {
      "image/png": "[encoded data removed]",
      "text/plain": [
       "<Figure size 432x288 with 1 Axes>"
      ]
     },
     "metadata": {},
     "output_type": "display_data"
    }
   ],
   "source": [
    "train['AmountRain'].hist(bins=20);"
   ]
  },
  {
   "cell_type": "code",
   "execution_count": 206,
   "metadata": {},
   "outputs": [
    {
     "data": {
      "image/png": "[encoded data removed]",
      "text/plain": [
       "<Figure size 432x288 with 1 Axes>"
      ]
     },
     "metadata": {},
     "output_type": "display_data"
    }
   ],
   "source": [
    "train[train['AmountRain'] <= 10]['AmountRain'].hist(bins=10);"
   ]
  },
  {
   "cell_type": "code",
   "execution_count": 207,
   "metadata": {},
   "outputs": [
    {
     "data": {
      "image/png": "[encoded data removed]",
      "text/plain": [
       "<Figure size 432x288 with 1 Axes>"
      ]
     },
     "metadata": {},
     "output_type": "display_data"
    }
   ],
   "source": [
    "sns.countplot(x='DidRainToday', data=train);"
   ]
  },
  {
   "cell_type": "code",
   "execution_count": 208,
   "metadata": {},
   "outputs": [
    {
     "data": {
      "image/png": "[encoded data removed]",
      "text/plain": [
       "<Figure size 432x288 with 1 Axes>"
      ]
     },
     "metadata": {},
     "output_type": "display_data"
    }
   ],
   "source": [
    "sns.countplot(x='TomorrowRainForecast', data=train);"
   ]
  },
  {
   "cell_type": "code",
   "execution_count": 209,
   "metadata": {},
   "outputs": [
    {
     "data": {
      "image/png": "[encoded data removed]",
      "text/plain": [
       "<Figure size 432x288 with 1 Axes>"
      ]
     },
     "metadata": {},
     "output_type": "display_data"
    }
   ],
   "source": [
    "sns.boxplot(x=\"TomorrowRainForecast\", y=\"AmountRain\", data=train);"
   ]
  },
  {
   "cell_type": "markdown",
   "metadata": {},
   "source": [
    "## Baseline model"
   ]
  },
  {
   "cell_type": "code",
   "execution_count": 210,
   "metadata": {},
   "outputs": [
    {
     "data": {
      "text/html": [
       "<div>\n",
       "<style scoped>\n",
       "    .dataframe tbody tr th:only-of-type {\n",
       "        vertical-align: middle;\n",
       "    }\n",
       "\n",
       "    .dataframe tbody tr th {\n",
       "        vertical-align: top;\n",
       "    }\n",
       "\n",
       "    .dataframe thead th {\n",
       "        text-align: right;\n",
       "    }\n",
       "</style>\n",
       "<table border=\"1\" class=\"dataframe\">\n",
       "  <thead>\n",
       "    <tr style=\"text-align: right;\">\n",
       "      <th></th>\n",
       "      <th>AmountRain</th>\n",
       "      <th>StrongWindDir</th>\n",
       "      <th>StrongWindSpeed</th>\n",
       "      <th>MorningWindDir</th>\n",
       "      <th>AfternoonWindDir</th>\n",
       "      <th>AfternoonWindSpeed</th>\n",
       "      <th>MorningHumidity</th>\n",
       "      <th>AfternoonHumidity</th>\n",
       "      <th>MorningTemp</th>\n",
       "      <th>AfternoonTemp</th>\n",
       "      <th>DidRainToday</th>\n",
       "      <th>DaysSinceNewYear</th>\n",
       "      <th>TomorrowRainForecast</th>\n",
       "    </tr>\n",
       "    <tr>\n",
       "      <th>ID</th>\n",
       "      <th></th>\n",
       "      <th></th>\n",
       "      <th></th>\n",
       "      <th></th>\n",
       "      <th></th>\n",
       "      <th></th>\n",
       "      <th></th>\n",
       "      <th></th>\n",
       "      <th></th>\n",
       "      <th></th>\n",
       "      <th></th>\n",
       "      <th></th>\n",
       "      <th></th>\n",
       "    </tr>\n",
       "  </thead>\n",
       "  <tbody>\n",
       "    <tr>\n",
       "      <th>5683</th>\n",
       "      <td>0.0</td>\n",
       "      <td>WSW</td>\n",
       "      <td>43.0</td>\n",
       "      <td>N</td>\n",
       "      <td>SW</td>\n",
       "      <td>17.0</td>\n",
       "      <td>82.0</td>\n",
       "      <td>51.0</td>\n",
       "      <td>15.4</td>\n",
       "      <td>20.8</td>\n",
       "      <td>No</td>\n",
       "      <td>268</td>\n",
       "      <td>0</td>\n",
       "    </tr>\n",
       "    <tr>\n",
       "      <th>2971</th>\n",
       "      <td>0.0</td>\n",
       "      <td>E</td>\n",
       "      <td>15.0</td>\n",
       "      <td>NaN</td>\n",
       "      <td>SE</td>\n",
       "      <td>7.0</td>\n",
       "      <td>91.0</td>\n",
       "      <td>63.0</td>\n",
       "      <td>9.7</td>\n",
       "      <td>16.6</td>\n",
       "      <td>No</td>\n",
       "      <td>136</td>\n",
       "      <td>0</td>\n",
       "    </tr>\n",
       "    <tr>\n",
       "      <th>3560</th>\n",
       "      <td>0.0</td>\n",
       "      <td>S</td>\n",
       "      <td>33.0</td>\n",
       "      <td>WSW</td>\n",
       "      <td>WSW</td>\n",
       "      <td>17.0</td>\n",
       "      <td>58.0</td>\n",
       "      <td>38.0</td>\n",
       "      <td>10.9</td>\n",
       "      <td>15.9</td>\n",
       "      <td>No</td>\n",
       "      <td>217</td>\n",
       "      <td>0</td>\n",
       "    </tr>\n",
       "    <tr>\n",
       "      <th>2304</th>\n",
       "      <td>10.0</td>\n",
       "      <td>NE</td>\n",
       "      <td>30.0</td>\n",
       "      <td>S</td>\n",
       "      <td>SSE</td>\n",
       "      <td>11.0</td>\n",
       "      <td>96.0</td>\n",
       "      <td>93.0</td>\n",
       "      <td>4.7</td>\n",
       "      <td>6.4</td>\n",
       "      <td>Yes</td>\n",
       "      <td>195</td>\n",
       "      <td>1</td>\n",
       "    </tr>\n",
       "    <tr>\n",
       "      <th>3573</th>\n",
       "      <td>0.0</td>\n",
       "      <td>WSW</td>\n",
       "      <td>48.0</td>\n",
       "      <td>NaN</td>\n",
       "      <td>SW</td>\n",
       "      <td>26.0</td>\n",
       "      <td>59.0</td>\n",
       "      <td>40.0</td>\n",
       "      <td>11.5</td>\n",
       "      <td>15.9</td>\n",
       "      <td>No</td>\n",
       "      <td>232</td>\n",
       "      <td>0</td>\n",
       "    </tr>\n",
       "  </tbody>\n",
       "</table>\n",
       "</div>"
      ],
      "text/plain": [
       "      AmountRain StrongWindDir  StrongWindSpeed MorningWindDir  \\\n",
       "ID                                                               \n",
       "5683         0.0           WSW             43.0              N   \n",
       "2971         0.0             E             15.0            NaN   \n",
       "3560         0.0             S             33.0            WSW   \n",
       "2304        10.0            NE             30.0              S   \n",
       "3573         0.0           WSW             48.0            NaN   \n",
       "\n",
       "     AfternoonWindDir  AfternoonWindSpeed  MorningHumidity  AfternoonHumidity  \\\n",
       "ID                                                                              \n",
       "5683               SW                17.0             82.0               51.0   \n",
       "2971               SE                 7.0             91.0               63.0   \n",
       "3560              WSW                17.0             58.0               38.0   \n",
       "2304              SSE                11.0             96.0               93.0   \n",
       "3573               SW                26.0             59.0               40.0   \n",
       "\n",
       "      MorningTemp  AfternoonTemp DidRainToday  DaysSinceNewYear  \\\n",
       "ID                                                                \n",
       "5683         15.4           20.8           No               268   \n",
       "2971          9.7           16.6           No               136   \n",
       "3560         10.9           15.9           No               217   \n",
       "2304          4.7            6.4          Yes               195   \n",
       "3573         11.5           15.9           No               232   \n",
       "\n",
       "      TomorrowRainForecast  \n",
       "ID                          \n",
       "5683                     0  \n",
       "2971                     0  \n",
       "3560                     0  \n",
       "2304                     1  \n",
       "3573                     0  "
      ]
     },
     "execution_count": 210,
     "metadata": {},
     "output_type": "execute_result"
    }
   ],
   "source": [
    "train_original = train.copy()\n",
    "train.head()"
   ]
  },
  {
   "cell_type": "code",
   "execution_count": 211,
   "metadata": {},
   "outputs": [],
   "source": [
    "train=train.reset_index()\n",
    "cols_to_drop = ['ID', 'DidRainToday']\n",
    "train = train.drop(cols_to_drop, axis=1)"
   ]
  },
  {
   "cell_type": "code",
   "execution_count": 212,
   "metadata": {},
   "outputs": [],
   "source": [
    "train_median = train.median()\n",
    "train_numerical = train.select_dtypes(include=['int64', 'float64']).fillna(train.median())"
   ]
  },
  {
   "cell_type": "code",
   "execution_count": 213,
   "metadata": {},
   "outputs": [],
   "source": [
    "train_categorical = train.select_dtypes(include='object').fillna('missing')"
   ]
  },
  {
   "cell_type": "code",
   "execution_count": 214,
   "metadata": {},
   "outputs": [],
   "source": [
    "train = pd.concat([train_numerical, train_categorical], axis=1)"
   ]
  },
  {
   "cell_type": "code",
   "execution_count": 215,
   "metadata": {},
   "outputs": [],
   "source": [
    "# get dummies for categorical columns and drop first\n",
    "train = pd.get_dummies(train, drop_first=True)"
   ]
  },
  {
   "cell_type": "code",
   "execution_count": 216,
   "metadata": {},
   "outputs": [
    {
     "data": {
      "text/html": [
       "<div>\n",
       "<style scoped>\n",
       "    .dataframe tbody tr th:only-of-type {\n",
       "        vertical-align: middle;\n",
       "    }\n",
       "\n",
       "    .dataframe tbody tr th {\n",
       "        vertical-align: top;\n",
       "    }\n",
       "\n",
       "    .dataframe thead th {\n",
       "        text-align: right;\n",
       "    }\n",
       "</style>\n",
       "<table border=\"1\" class=\"dataframe\">\n",
       "  <thead>\n",
       "    <tr style=\"text-align: right;\">\n",
       "      <th></th>\n",
       "      <th>AmountRain</th>\n",
       "      <th>StrongWindSpeed</th>\n",
       "      <th>AfternoonWindSpeed</th>\n",
       "      <th>MorningHumidity</th>\n",
       "      <th>AfternoonHumidity</th>\n",
       "      <th>MorningTemp</th>\n",
       "      <th>AfternoonTemp</th>\n",
       "      <th>DaysSinceNewYear</th>\n",
       "      <th>TomorrowRainForecast</th>\n",
       "      <th>StrongWindDir_ENE</th>\n",
       "      <th>...</th>\n",
       "      <th>AfternoonWindDir_NW</th>\n",
       "      <th>AfternoonWindDir_S</th>\n",
       "      <th>AfternoonWindDir_SE</th>\n",
       "      <th>AfternoonWindDir_SSE</th>\n",
       "      <th>AfternoonWindDir_SSW</th>\n",
       "      <th>AfternoonWindDir_SW</th>\n",
       "      <th>AfternoonWindDir_W</th>\n",
       "      <th>AfternoonWindDir_WNW</th>\n",
       "      <th>AfternoonWindDir_WSW</th>\n",
       "      <th>AfternoonWindDir_missing</th>\n",
       "    </tr>\n",
       "  </thead>\n",
       "  <tbody>\n",
       "    <tr>\n",
       "      <th>0</th>\n",
       "      <td>0.0</td>\n",
       "      <td>43.0</td>\n",
       "      <td>17.0</td>\n",
       "      <td>82.0</td>\n",
       "      <td>51.0</td>\n",
       "      <td>15.4</td>\n",
       "      <td>20.8</td>\n",
       "      <td>268</td>\n",
       "      <td>0</td>\n",
       "      <td>0</td>\n",
       "      <td>...</td>\n",
       "      <td>0</td>\n",
       "      <td>0</td>\n",
       "      <td>0</td>\n",
       "      <td>0</td>\n",
       "      <td>0</td>\n",
       "      <td>1</td>\n",
       "      <td>0</td>\n",
       "      <td>0</td>\n",
       "      <td>0</td>\n",
       "      <td>0</td>\n",
       "    </tr>\n",
       "    <tr>\n",
       "      <th>1</th>\n",
       "      <td>0.0</td>\n",
       "      <td>15.0</td>\n",
       "      <td>7.0</td>\n",
       "      <td>91.0</td>\n",
       "      <td>63.0</td>\n",
       "      <td>9.7</td>\n",
       "      <td>16.6</td>\n",
       "      <td>136</td>\n",
       "      <td>0</td>\n",
       "      <td>0</td>\n",
       "      <td>...</td>\n",
       "      <td>0</td>\n",
       "      <td>0</td>\n",
       "      <td>1</td>\n",
       "      <td>0</td>\n",
       "      <td>0</td>\n",
       "      <td>0</td>\n",
       "      <td>0</td>\n",
       "      <td>0</td>\n",
       "      <td>0</td>\n",
       "      <td>0</td>\n",
       "    </tr>\n",
       "    <tr>\n",
       "      <th>2</th>\n",
       "      <td>0.0</td>\n",
       "      <td>33.0</td>\n",
       "      <td>17.0</td>\n",
       "      <td>58.0</td>\n",
       "      <td>38.0</td>\n",
       "      <td>10.9</td>\n",
       "      <td>15.9</td>\n",
       "      <td>217</td>\n",
       "      <td>0</td>\n",
       "      <td>0</td>\n",
       "      <td>...</td>\n",
       "      <td>0</td>\n",
       "      <td>0</td>\n",
       "      <td>0</td>\n",
       "      <td>0</td>\n",
       "      <td>0</td>\n",
       "      <td>0</td>\n",
       "      <td>0</td>\n",
       "      <td>0</td>\n",
       "      <td>1</td>\n",
       "      <td>0</td>\n",
       "    </tr>\n",
       "    <tr>\n",
       "      <th>3</th>\n",
       "      <td>10.0</td>\n",
       "      <td>30.0</td>\n",
       "      <td>11.0</td>\n",
       "      <td>96.0</td>\n",
       "      <td>93.0</td>\n",
       "      <td>4.7</td>\n",
       "      <td>6.4</td>\n",
       "      <td>195</td>\n",
       "      <td>1</td>\n",
       "      <td>0</td>\n",
       "      <td>...</td>\n",
       "      <td>0</td>\n",
       "      <td>0</td>\n",
       "      <td>0</td>\n",
       "      <td>1</td>\n",
       "      <td>0</td>\n",
       "      <td>0</td>\n",
       "      <td>0</td>\n",
       "      <td>0</td>\n",
       "      <td>0</td>\n",
       "      <td>0</td>\n",
       "    </tr>\n",
       "    <tr>\n",
       "      <th>4</th>\n",
       "      <td>0.0</td>\n",
       "      <td>48.0</td>\n",
       "      <td>26.0</td>\n",
       "      <td>59.0</td>\n",
       "      <td>40.0</td>\n",
       "      <td>11.5</td>\n",
       "      <td>15.9</td>\n",
       "      <td>232</td>\n",
       "      <td>0</td>\n",
       "      <td>0</td>\n",
       "      <td>...</td>\n",
       "      <td>0</td>\n",
       "      <td>0</td>\n",
       "      <td>0</td>\n",
       "      <td>0</td>\n",
       "      <td>0</td>\n",
       "      <td>1</td>\n",
       "      <td>0</td>\n",
       "      <td>0</td>\n",
       "      <td>0</td>\n",
       "      <td>0</td>\n",
       "    </tr>\n",
       "  </tbody>\n",
       "</table>\n",
       "<p>5 rows × 57 columns</p>\n",
       "</div>"
      ],
      "text/plain": [
       "   AmountRain  StrongWindSpeed  AfternoonWindSpeed  MorningHumidity  \\\n",
       "0         0.0             43.0                17.0             82.0   \n",
       "1         0.0             15.0                 7.0             91.0   \n",
       "2         0.0             33.0                17.0             58.0   \n",
       "3        10.0             30.0                11.0             96.0   \n",
       "4         0.0             48.0                26.0             59.0   \n",
       "\n",
       "   AfternoonHumidity  MorningTemp  AfternoonTemp  DaysSinceNewYear  \\\n",
       "0               51.0         15.4           20.8               268   \n",
       "1               63.0          9.7           16.6               136   \n",
       "2               38.0         10.9           15.9               217   \n",
       "3               93.0          4.7            6.4               195   \n",
       "4               40.0         11.5           15.9               232   \n",
       "\n",
       "   TomorrowRainForecast  StrongWindDir_ENE            ...             \\\n",
       "0                     0                  0            ...              \n",
       "1                     0                  0            ...              \n",
       "2                     0                  0            ...              \n",
       "3                     1                  0            ...              \n",
       "4                     0                  0            ...              \n",
       "\n",
       "   AfternoonWindDir_NW  AfternoonWindDir_S  AfternoonWindDir_SE  \\\n",
       "0                    0                   0                    0   \n",
       "1                    0                   0                    1   \n",
       "2                    0                   0                    0   \n",
       "3                    0                   0                    0   \n",
       "4                    0                   0                    0   \n",
       "\n",
       "   AfternoonWindDir_SSE  AfternoonWindDir_SSW  AfternoonWindDir_SW  \\\n",
       "0                     0                     0                    1   \n",
       "1                     0                     0                    0   \n",
       "2                     0                     0                    0   \n",
       "3                     1                     0                    0   \n",
       "4                     0                     0                    1   \n",
       "\n",
       "   AfternoonWindDir_W  AfternoonWindDir_WNW  AfternoonWindDir_WSW  \\\n",
       "0                   0                     0                     0   \n",
       "1                   0                     0                     0   \n",
       "2                   0                     0                     1   \n",
       "3                   0                     0                     0   \n",
       "4                   0                     0                     0   \n",
       "\n",
       "   AfternoonWindDir_missing  \n",
       "0                         0  \n",
       "1                         0  \n",
       "2                         0  \n",
       "3                         0  \n",
       "4                         0  \n",
       "\n",
       "[5 rows x 57 columns]"
      ]
     },
     "execution_count": 216,
     "metadata": {},
     "output_type": "execute_result"
    }
   ],
   "source": [
    "train.head()"
   ]
  },
  {
   "cell_type": "markdown",
   "metadata": {},
   "source": [
    "## Create features and target"
   ]
  },
  {
   "cell_type": "code",
   "execution_count": 217,
   "metadata": {},
   "outputs": [],
   "source": [
    "X = train.drop('TomorrowRainForecast', axis=1)\n",
    "y = train['TomorrowRainForecast']"
   ]
  },
  {
   "cell_type": "markdown",
   "metadata": {},
   "source": [
    "## Train model"
   ]
  },
  {
   "cell_type": "code",
   "execution_count": 218,
   "metadata": {},
   "outputs": [],
   "source": [
    "X_train, X_val, y_train, y_val = train_test_split(X, y, test_size=0.3, random_state=8)"
   ]
  },
  {
   "cell_type": "code",
   "execution_count": 219,
   "metadata": {},
   "outputs": [
    {
     "data": {
      "text/plain": [
       "0.8662511984659635"
      ]
     },
     "execution_count": 219,
     "metadata": {},
     "output_type": "execute_result"
    }
   ],
   "source": [
    "logisticReg = LogisticRegression()\n",
    "logisticReg.fit(X_train, y_train)\n",
    "logisticReg.score(X_val, y_val)"
   ]
  },
  {
   "cell_type": "markdown",
   "metadata": {},
   "source": [
    "# Test"
   ]
  },
  {
   "cell_type": "code",
   "execution_count": 220,
   "metadata": {},
   "outputs": [
    {
     "data": {
      "text/html": [
       "<div>\n",
       "<style scoped>\n",
       "    .dataframe tbody tr th:only-of-type {\n",
       "        vertical-align: middle;\n",
       "    }\n",
       "\n",
       "    .dataframe tbody tr th {\n",
       "        vertical-align: top;\n",
       "    }\n",
       "\n",
       "    .dataframe thead th {\n",
       "        text-align: right;\n",
       "    }\n",
       "</style>\n",
       "<table border=\"1\" class=\"dataframe\">\n",
       "  <thead>\n",
       "    <tr style=\"text-align: right;\">\n",
       "      <th></th>\n",
       "      <th>AmountRain</th>\n",
       "      <th>StrongWindDir</th>\n",
       "      <th>StrongWindSpeed</th>\n",
       "      <th>MorningWindDir</th>\n",
       "      <th>AfternoonWindDir</th>\n",
       "      <th>AfternoonWindSpeed</th>\n",
       "      <th>MorningHumidity</th>\n",
       "      <th>AfternoonHumidity</th>\n",
       "      <th>MorningTemp</th>\n",
       "      <th>AfternoonTemp</th>\n",
       "      <th>DidRainToday</th>\n",
       "      <th>DaysSinceNewYear</th>\n",
       "    </tr>\n",
       "    <tr>\n",
       "      <th>ID</th>\n",
       "      <th></th>\n",
       "      <th></th>\n",
       "      <th></th>\n",
       "      <th></th>\n",
       "      <th></th>\n",
       "      <th></th>\n",
       "      <th></th>\n",
       "      <th></th>\n",
       "      <th></th>\n",
       "      <th></th>\n",
       "      <th></th>\n",
       "      <th></th>\n",
       "    </tr>\n",
       "  </thead>\n",
       "  <tbody>\n",
       "    <tr>\n",
       "      <th>9292</th>\n",
       "      <td>0.0</td>\n",
       "      <td>NNE</td>\n",
       "      <td>56.0</td>\n",
       "      <td>NNW</td>\n",
       "      <td>NNE</td>\n",
       "      <td>35.0</td>\n",
       "      <td>77.0</td>\n",
       "      <td>70.0</td>\n",
       "      <td>24.9</td>\n",
       "      <td>27.0</td>\n",
       "      <td>No</td>\n",
       "      <td>1</td>\n",
       "    </tr>\n",
       "    <tr>\n",
       "      <th>7569</th>\n",
       "      <td>0.0</td>\n",
       "      <td>NNW</td>\n",
       "      <td>39.0</td>\n",
       "      <td>NNE</td>\n",
       "      <td>NW</td>\n",
       "      <td>22.0</td>\n",
       "      <td>34.0</td>\n",
       "      <td>12.0</td>\n",
       "      <td>18.6</td>\n",
       "      <td>27.9</td>\n",
       "      <td>No</td>\n",
       "      <td>264</td>\n",
       "    </tr>\n",
       "    <tr>\n",
       "      <th>9408</th>\n",
       "      <td>0.0</td>\n",
       "      <td>NNW</td>\n",
       "      <td>24.0</td>\n",
       "      <td>WNW</td>\n",
       "      <td>E</td>\n",
       "      <td>11.0</td>\n",
       "      <td>53.0</td>\n",
       "      <td>46.0</td>\n",
       "      <td>22.6</td>\n",
       "      <td>24.0</td>\n",
       "      <td>No</td>\n",
       "      <td>117</td>\n",
       "    </tr>\n",
       "    <tr>\n",
       "      <th>7337</th>\n",
       "      <td>0.0</td>\n",
       "      <td>NNE</td>\n",
       "      <td>46.0</td>\n",
       "      <td>NNE</td>\n",
       "      <td>NE</td>\n",
       "      <td>20.0</td>\n",
       "      <td>27.0</td>\n",
       "      <td>16.0</td>\n",
       "      <td>34.1</td>\n",
       "      <td>40.5</td>\n",
       "      <td>No</td>\n",
       "      <td>4</td>\n",
       "    </tr>\n",
       "    <tr>\n",
       "      <th>7928</th>\n",
       "      <td>0.0</td>\n",
       "      <td>WSW</td>\n",
       "      <td>39.0</td>\n",
       "      <td>WSW</td>\n",
       "      <td>WSW</td>\n",
       "      <td>22.0</td>\n",
       "      <td>55.0</td>\n",
       "      <td>34.0</td>\n",
       "      <td>14.8</td>\n",
       "      <td>19.9</td>\n",
       "      <td>No</td>\n",
       "      <td>258</td>\n",
       "    </tr>\n",
       "  </tbody>\n",
       "</table>\n",
       "</div>"
      ],
      "text/plain": [
       "      AmountRain StrongWindDir  StrongWindSpeed MorningWindDir  \\\n",
       "ID                                                               \n",
       "9292         0.0           NNE             56.0            NNW   \n",
       "7569         0.0           NNW             39.0            NNE   \n",
       "9408         0.0           NNW             24.0            WNW   \n",
       "7337         0.0           NNE             46.0            NNE   \n",
       "7928         0.0           WSW             39.0            WSW   \n",
       "\n",
       "     AfternoonWindDir  AfternoonWindSpeed  MorningHumidity  AfternoonHumidity  \\\n",
       "ID                                                                              \n",
       "9292              NNE                35.0             77.0               70.0   \n",
       "7569               NW                22.0             34.0               12.0   \n",
       "9408                E                11.0             53.0               46.0   \n",
       "7337               NE                20.0             27.0               16.0   \n",
       "7928              WSW                22.0             55.0               34.0   \n",
       "\n",
       "      MorningTemp  AfternoonTemp DidRainToday  DaysSinceNewYear  \n",
       "ID                                                               \n",
       "9292         24.9           27.0           No                 1  \n",
       "7569         18.6           27.9           No               264  \n",
       "9408         22.6           24.0           No               117  \n",
       "7337         34.1           40.5           No                 4  \n",
       "7928         14.8           19.9           No               258  "
      ]
     },
     "execution_count": 220,
     "metadata": {},
     "output_type": "execute_result"
    }
   ],
   "source": [
    "test.head(5)"
   ]
  },
  {
   "cell_type": "code",
   "execution_count": 221,
   "metadata": {},
   "outputs": [],
   "source": [
    "test=test.reset_index()\n",
    "test_ID = test['ID']\n",
    "test_original = test"
   ]
  },
  {
   "cell_type": "code",
   "execution_count": 222,
   "metadata": {},
   "outputs": [],
   "source": [
    "columns_to_drop = ['ID', 'DidRainToday']\n",
    "test = test.drop(columns_to_drop, axis=1)"
   ]
  },
  {
   "cell_type": "code",
   "execution_count": 223,
   "metadata": {},
   "outputs": [],
   "source": [
    "test_numerical = test.select_dtypes(include=['int64', 'float64']).fillna(train_median)"
   ]
  },
  {
   "cell_type": "code",
   "execution_count": 224,
   "metadata": {},
   "outputs": [],
   "source": [
    "test_categorical = test.select_dtypes(include='object').fillna('missing')"
   ]
  },
  {
   "cell_type": "code",
   "execution_count": 225,
   "metadata": {},
   "outputs": [],
   "source": [
    "test = pd.concat([test_numerical, test_categorical], axis=1)"
   ]
  },
  {
   "cell_type": "code",
   "execution_count": 226,
   "metadata": {},
   "outputs": [],
   "source": [
    "# get dummies for categorical columns and drop first\n",
    "test = pd.get_dummies(test, drop_first=True)"
   ]
  },
  {
   "cell_type": "code",
   "execution_count": 227,
   "metadata": {},
   "outputs": [],
   "source": [
    "X_test = test"
   ]
  },
  {
   "cell_type": "code",
   "execution_count": 228,
   "metadata": {},
   "outputs": [],
   "source": [
    "y_pred = logisticReg.predict_proba(X_test)[:, 1]"
   ]
  },
  {
   "cell_type": "code",
   "execution_count": 229,
   "metadata": {},
   "outputs": [],
   "source": [
    "predictions = pd.DataFrame({'ID': test_ID,\n",
    "                           'TomorrowRainForecast': y_pred})"
   ]
  },
  {
   "cell_type": "code",
   "execution_count": 230,
   "metadata": {},
   "outputs": [],
   "source": [
    "predictions.to_csv('submission.csv', index=False)"
   ]
  }
 ],
 "metadata": {
  "kernelspec": {
   "display_name": "Python 3",
   "language": "python",
   "name": "python3"
  },
  "language_info": {
   "codemirror_mode": {
    "name": "ipython",
    "version": 3
   },
   "file_extension": ".py",
   "mimetype": "text/x-python",
   "name": "python",
   "nbconvert_exporter": "python",
   "pygments_lexer": "ipython3",
   "version": "3.5.5"
  }
 },
 "nbformat": 4,
 "nbformat_minor": 2
}
